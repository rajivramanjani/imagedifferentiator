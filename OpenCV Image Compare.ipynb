{
  "cells": [
    {
      "metadata": {
        "trusted": true
      },
      "cell_type": "code",
      "source": "!pip install imutils\n",
      "execution_count": 1,
      "outputs": [
        {
          "output_type": "stream",
          "text": "Collecting imutils\n  Downloading https://files.pythonhosted.org/packages/ee/29/6b20a2f2444be479cbd74b8fb0dd2ee92671e1c52360f1cb022c6c00e052/imutils-0.5.1.tar.gz\nBuilding wheels for collected packages: imutils\n  Running setup.py bdist_wheel for imutils ... \u001b[?25ldone\n\u001b[?25h  Stored in directory: /home/nbuser/.cache/pip/wheels/4c/ff/aa/824fb9efc5b8c740d54cd8bc19c7e85fbb8d115c77e56812c7\nSuccessfully built imutils\nInstalling collected packages: imutils\nSuccessfully installed imutils-0.5.1\n",
          "name": "stdout"
        }
      ]
    },
    {
      "metadata": {
        "trusted": true
      },
      "cell_type": "code",
      "source": "# import the necessary packages\nfrom skimage.measure import compare_ssim\nimport imutils\nimport cv2",
      "execution_count": 8,
      "outputs": []
    },
    {
      "metadata": {
        "trusted": true
      },
      "cell_type": "code",
      "source": "# load the two input images\nimageA = cv2.imread(\"/home/nbuser/library/hero_Last_Jedi.jpg\")\nimageB = cv2.imread(\"/home/nbuser/library/hero_Last_Jedi3.jpg\")\ndifference = cv2.subtract(imageA, imageB)\n# convert the images to grayscale\ngrayA = cv2.cvtColor(imageA, cv2.COLOR_BGR2GRAY)\ngrayB = cv2.cvtColor(imageB, cv2.COLOR_BGR2GRAY)",
      "execution_count": 3,
      "outputs": []
    },
    {
      "metadata": {
        "trusted": true
      },
      "cell_type": "code",
      "source": "# compute the Structural Similarity Index (SSIM) between the two\n# images, ensuring that the difference image is returned\n(score, diff) = compare_ssim(grayA, grayB, full=True)\ndiff = (diff * 255).astype(\"uint8\")\nprint(\"SSIM: {}\".format(score))",
      "execution_count": 4,
      "outputs": [
        {
          "output_type": "stream",
          "text": "SSIM: 0.993213804975103\n",
          "name": "stdout"
        },
        {
          "output_type": "stream",
          "text": "/home/nbuser/anaconda3_501/lib/python3.6/site-packages/skimage/util/arraycrop.py:177: FutureWarning: Using a non-tuple sequence for multidimensional indexing is deprecated; use `arr[tuple(seq)]` instead of `arr[seq]`. In the future this will be interpreted as an array index, `arr[np.array(seq)]`, which will result either in an error or a different result.\n  cropped = ar[slices]\n",
          "name": "stderr"
        }
      ]
    },
    {
      "metadata": {
        "trusted": true
      },
      "cell_type": "code",
      "source": "# threshold the difference image, followed by finding contours to\n# obtain the regions of the two input images that differ\nthresh = cv2.threshold(diff, 0, 255,cv2.THRESH_BINARY_INV | cv2.THRESH_OTSU)[1]\ncnts = cv2.findContours(thresh.copy(), cv2.RETR_EXTERNAL,\ncv2.CHAIN_APPROX_SIMPLE)\ncnts = cnts[0] if imutils.is_cv2() else cnts[1]",
      "execution_count": 5,
      "outputs": []
    },
    {
      "metadata": {
        "trusted": true
      },
      "cell_type": "code",
      "source": "# loop over the contours\nfor c in cnts:\n    \n    \n# compute the bounding box of the contour and then draw the\n# bounding box on both input images to represent where the two\n# images differ\n    (x, y, w, h) = cv2.boundingRect(c)\n    cv2.rectangle(imageA, (x, y), (x + w, y + h), (0, 0, 255), 2)\n    cv2.rectangle(imageB, (x, y), (x + w, y + h), (0, 0, 255), 2)\n    # show the output images\n    cv2.imwrite(\"Original.jpg\", imageA)\n    cv2.imwrite(\"Modified.jpg\", imageB)\n    cv2.imwrite(\"Diff.jpg\", diff)\n    cv2.imwrite(\"Thresh.jpg\", thresh)",
      "execution_count": 6,
      "outputs": []
    }
  ],
  "metadata": {
    "kernelspec": {
      "name": "python36",
      "display_name": "Python 3.6",
      "language": "python"
    },
    "language_info": {
      "mimetype": "text/x-python",
      "nbconvert_exporter": "python",
      "name": "python",
      "pygments_lexer": "ipython3",
      "version": "3.6.3",
      "file_extension": ".py",
      "codemirror_mode": {
        "version": 3,
        "name": "ipython"
      }
    }
  },
  "nbformat": 4,
  "nbformat_minor": 2
}